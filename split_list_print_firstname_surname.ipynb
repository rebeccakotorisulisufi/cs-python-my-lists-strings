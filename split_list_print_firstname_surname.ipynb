{
 "cells": [
  {
   "cell_type": "code",
   "execution_count": 1,
   "metadata": {
    "scrolled": true
   },
   "outputs": [
    {
     "name": "stdout",
     "output_type": "stream",
     "text": [
      "['ana', 'ben', 'carli', 'dee', 'elaine', 'fred', 'gustas']\n",
      "['ana', 'ben', 'carli', 'dee', 'elaine', 'fred', 'gustas']\n",
      "['ben', 'carli', 'dee', 'elaine']\n",
      "['ana', 'ben', 'carli', 'dee', 'elaine', 'fred', 'gustas']\n",
      "[]\n",
      "['elaine']\n",
      "['gustas', 'fred', 'elaine', 'dee', 'carli', 'ben']\n",
      "['gustas', 'fred', 'elaine', 'dee', 'carli', 'ben', 'ana']\n"
     ]
    }
   ],
   "source": [
    "myList = ['ana', 'ben', 'carli', 'dee', 'elaine', 'fred', 'gustas']\n",
    "\n",
    "print(myList[0:7])\n",
    "\n",
    "print(myList[0:len(myList)])\n",
    "\n",
    "print(myList[1:5])\n",
    "\n",
    "print(myList[:])\n",
    "\n",
    "print(myList[4:2])\n",
    "\n",
    "print(myList[4:-2])\n",
    "\n",
    "print(myList[len(myList):0:-1])\n",
    "\n",
    "print(myList[len(myList)::-1])\n",
    "\n"
   ]
  },
  {
   "cell_type": "markdown",
   "metadata": {},
   "source": [
    "## Exercise - Lists of names\n",
    "1) Output only the firstnames\n",
    "\n",
    "2) Output only the surnames"
   ]
  },
  {
   "cell_type": "code",
   "execution_count": 4,
   "metadata": {
    "scrolled": true
   },
   "outputs": [
    {
     "name": "stdout",
     "output_type": "stream",
     "text": [
      "Firstname:  ana\n",
      "Firstname:  ben\n",
      "Firstname:  carli\n",
      "Firstname:  daniel\n",
      "Firstname:  elaine\n",
      "Firstname:  fred\n",
      "Firstname:  george\n",
      "Surname:  herrera\n",
      "Surname:  ainslie\n",
      "Surname:  simon\n",
      "Surname:  defoe\n",
      "Surname:  williams\n",
      "Surname:  jones\n",
      "Surname:  gershwin\n"
     ]
    }
   ],
   "source": [
    "myList = ['ana,herrera', 'ben,ainslie', 'carli,simon', 'daniel,defoe', 'elaine,williams', 'fred,jones', 'george,gershwin,']\n",
    "for element in myList:\n",
    "    parts = element.split(',')\n",
    "    print(\"Firstname: \", parts[0])\n",
    "for element in myList:\n",
    "    parts = element.split(',')\n",
    "    print(\"Surname: \", parts[1])"
   ]
  }
 ],
 "metadata": {
  "kernelspec": {
   "display_name": "Python 3",
   "language": "python",
   "name": "python3"
  },
  "language_info": {
   "codemirror_mode": {
    "name": "ipython",
    "version": 3
   },
   "file_extension": ".py",
   "mimetype": "text/x-python",
   "name": "python",
   "nbconvert_exporter": "python",
   "pygments_lexer": "ipython3",
   "version": "3.5.2"
  }
 },
 "nbformat": 4,
 "nbformat_minor": 2
}
